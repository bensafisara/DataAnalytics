{
  "nbformat": 4,
  "nbformat_minor": 0,
  "metadata": {
    "colab": {
      "provenance": []
    },
    "kernelspec": {
      "name": "python3",
      "display_name": "Python 3"
    },
    "language_info": {
      "name": "python"
    }
  },
  "cells": [
    {
      "cell_type": "markdown",
      "source": [
        "#1.2 Recherche de règles d'association"
      ],
      "metadata": {
        "id": "YW1bE3kVsUPG"
      }
    },
    {
      "cell_type": "markdown",
      "source": [
        "Ouvrez les données à l'aide de la bibliothèque pandas. Quels sont les types des attributs ? Que\n",
        "représentent les valeurs associées aux ` ?' ? Comment agit les commandes du \n",
        "chier squelette,\n",
        "permettant la discrétisation ?\n"
      ],
      "metadata": {
        "id": "68MYQYLSshb0"
      }
    },
    {
      "cell_type": "code",
      "execution_count": null,
      "metadata": {
        "colab": {
          "base_uri": "https://localhost:8080/"
        },
        "id": "xrdcCeqgvrjf",
        "outputId": "e47f2a98-d006-4a27-b11b-d0813e23a079"
      },
      "outputs": [
        {
          "output_type": "stream",
          "name": "stdout",
          "text": [
            "  department1 department2 department3 department4 department5 department6  \\\n",
            "0           ?           ?           ?           ?           ?           ?   \n",
            "1           t           ?           ?           ?           ?           ?   \n",
            "2           ?           ?           ?           ?           ?           ?   \n",
            "3           t           ?           ?           ?           ?           ?   \n",
            "4           ?           ?           ?           ?           ?           ?   \n",
            "\n",
            "  department7 department8 department9 grocery misc  ... department208  \\\n",
            "0           ?           ?           ?            ?  ...             ?   \n",
            "1           ?           ?           ?            ?  ...             ?   \n",
            "2           ?           ?           ?            ?  ...             ?   \n",
            "3           ?           ?           ?            ?  ...             ?   \n",
            "4           ?           ?           ?            ?  ...             ?   \n",
            "\n",
            "  department209 department210 department211 department212 department213  \\\n",
            "0             ?             ?             ?             ?             ?   \n",
            "1             ?             ?             ?             ?             ?   \n",
            "2             ?             ?             ?             ?             ?   \n",
            "3             ?             ?             ?             ?             ?   \n",
            "4             ?             ?             ?             ?             ?   \n",
            "\n",
            "  department214 department215 department216 total  \n",
            "0             ?             ?             ?  high  \n",
            "1             ?             ?             ?   low  \n",
            "2             ?             ?             ?   low  \n",
            "3             ?             ?             ?   low  \n",
            "4             ?             ?             ?   low  \n",
            "\n",
            "[5 rows x 217 columns]\n"
          ]
        }
      ],
      "source": [
        "import pandas as pd\n",
        "import matplotlib\n",
        "import matplotlib.pyplot as plt\n",
        "import numpy as np\n",
        "\n",
        "\n",
        "# # read input text and put data inside a data frame\n",
        "supermarket  = pd.read_csv('/content/drive/MyDrive/TP2DataAnalytics/TP2/supermarket.csv')\n",
        "#print(super)\n",
        "print(supermarket.head())"
      ]
    },
    {
      "cell_type": "code",
      "source": [
        "# convert categorical values into one-hot vectors\n",
        "def one_hot_encode(x):\n",
        "    if x == '?':\n",
        "        return False\n",
        "    elif x == 't':\n",
        "        return True\n",
        "    else:\n",
        "        raise ValueError\n",
        "\n",
        "supermarket_one_hot = supermarket.drop(['total'], axis=1).applymap(one_hot_encode)\n",
        "for val in supermarket['total'].unique():\n",
        "    print(val)\n",
        "    supermarket_one_hot['total_'+str(val)] = supermarket['total'].apply(lambda x: x==val)\n",
        "print(supermarket_one_hot.head())"
      ],
      "metadata": {
        "colab": {
          "base_uri": "https://localhost:8080/"
        },
        "id": "R-zaAT-Av-mZ",
        "outputId": "020eaf74-291f-433b-8de1-e5c5aed2036d"
      },
      "execution_count": null,
      "outputs": [
        {
          "output_type": "stream",
          "name": "stdout",
          "text": [
            "high\n",
            "low\n",
            "   department1  department2  department3  department4  department5  \\\n",
            "0        False        False        False        False        False   \n",
            "1         True        False        False        False        False   \n",
            "2        False        False        False        False        False   \n",
            "3         True        False        False        False        False   \n",
            "4        False        False        False        False        False   \n",
            "\n",
            "   department6  department7  department8  department9  grocery misc  ...  \\\n",
            "0        False        False        False        False         False  ...   \n",
            "1        False        False        False        False         False  ...   \n",
            "2        False        False        False        False         False  ...   \n",
            "3        False        False        False        False         False  ...   \n",
            "4        False        False        False        False         False  ...   \n",
            "\n",
            "   department209  department210  department211  department212  department213  \\\n",
            "0          False          False          False          False          False   \n",
            "1          False          False          False          False          False   \n",
            "2          False          False          False          False          False   \n",
            "3          False          False          False          False          False   \n",
            "4          False          False          False          False          False   \n",
            "\n",
            "   department214  department215  department216  total_high  total_low  \n",
            "0          False          False          False        True      False  \n",
            "1          False          False          False       False       True  \n",
            "2          False          False          False       False       True  \n",
            "3          False          False          False       False       True  \n",
            "4          False          False          False       False       True  \n",
            "\n",
            "[5 rows x 218 columns]\n"
          ]
        }
      ]
    },
    {
      "cell_type": "markdown",
      "source": [
        "Le niveau de couverture est très dépendant des données. Établissez l'ensemble des itemsets\n",
        "fréquents à l'aide de la fonction apriori() de mlxtend en \n",
        "xant un support minimal à 0,1.\n",
        "Expliquez ce que signi\n",
        "e cette valeur de 0,1. Combien d'itemsets obtenez-vous ? Donnez leur\n",
        "fréquence en fonction du nombre d'items qu'ils contiennent."
      ],
      "metadata": {
        "id": "-NiTHEJuxVgx"
      }
    },
    {
      "cell_type": "code",
      "source": [
        "from mlxtend.frequent_patterns import apriori\n",
        "#j'ai 10281 avec 0.1 support \n",
        "aprioriResultat = apriori(supermarket_one_hot, min_support=0.1,  use_colnames=True)\n",
        "print(aprioriResultat)\n",
        "\n"
      ],
      "metadata": {
        "colab": {
          "base_uri": "https://localhost:8080/"
        },
        "id": "1rnnli3p4VA5",
        "outputId": "c9c1631c-e0b1-4bd5-de66-39c5547c9981"
      },
      "execution_count": null,
      "outputs": [
        {
          "output_type": "stream",
          "name": "stdout",
          "text": [
            "        support                                           itemsets\n",
            "0      0.226281                                      (department1)\n",
            "1      0.133780                                       (baby needs)\n",
            "2      0.719689                                   (bread and cake)\n",
            "3      0.604063                                     (baking needs)\n",
            "4      0.532310                                (juice-sat-cord-ms)\n",
            "...         ...                                                ...\n",
            "10277  0.101145  (vegetables, fruit, bread and cake, total_high...\n",
            "10278  0.100713  (vegetables, party snack foods, fruit, milk-cr...\n",
            "10279  0.103307  (vegetables, party snack foods, fruit, bread a...\n",
            "10280  0.102658  (vegetables, fruit, bread and cake, total_high...\n",
            "10281  0.105036  (vegetables, fruit, milk-cream, bread and cake...\n",
            "\n",
            "[10282 rows x 2 columns]\n"
          ]
        }
      ]
    },
    {
      "cell_type": "markdown",
      "source": [
        "Combien d'itemsets obtenez-vous ? Donnez leur\n",
        "fréquence en fonction du nombre d'items qu'ils contiennent."
      ],
      "metadata": {
        "id": "6yCSDjIK2wQ2"
      }
    },
    {
      "cell_type": "code",
      "source": [
        "frequent_itemsets = apriori(supermarket_one_hot, min_support=0.1, use_colnames=True)\n",
        "frequent_itemsets['length'] = frequent_itemsets['itemsets'].apply(lambda x: len(x))\n",
        "print(frequent_itemsets)\n",
        "    \n",
        "from collections import Counter\n",
        "\n",
        "Frequence= Counter(frequent_itemsets['length'])\n",
        "print(\"fréquence des items\",Frequence)"
      ],
      "metadata": {
        "colab": {
          "base_uri": "https://localhost:8080/"
        },
        "id": "20EkHrqV4_r-",
        "outputId": "11d8c9f1-7496-48f9-9cf4-e47781c554a2"
      },
      "execution_count": null,
      "outputs": [
        {
          "output_type": "stream",
          "name": "stdout",
          "text": [
            "        support                                           itemsets  length\n",
            "0      0.226281                                      (department1)       1\n",
            "1      0.133780                                       (baby needs)       1\n",
            "2      0.719689                                   (bread and cake)       1\n",
            "3      0.604063                                     (baking needs)       1\n",
            "4      0.532310                                (juice-sat-cord-ms)       1\n",
            "...         ...                                                ...     ...\n",
            "10277  0.101145  (vegetables, fruit, bread and cake, total_high...       7\n",
            "10278  0.100713  (vegetables, party snack foods, fruit, milk-cr...       7\n",
            "10279  0.103307  (vegetables, party snack foods, fruit, bread a...       7\n",
            "10280  0.102658  (vegetables, fruit, bread and cake, total_high...       7\n",
            "10281  0.105036  (vegetables, fruit, milk-cream, bread and cake...       7\n",
            "\n",
            "[10282 rows x 3 columns]\n",
            "fréquence des items Counter({4: 3950, 3: 2598, 5: 2470, 2: 634, 6: 558, 1: 52, 7: 20})\n"
          ]
        }
      ]
    },
    {
      "cell_type": "markdown",
      "source": [
        "Construisez les règles à partir de l'ensemble des itemsets précédemment obtenus en recourant\n",
        "à la fonction association_rules() de mlxtend. Pour ne pas avoir un nombre trop important de\n",
        "règles générées, \n",
        "xez un seuil minimal de 0,7 pour la valeur de con\n",
        "ance.\n",
        "Combien de règles obtenez-vous ? Commentez la première règle obtenue."
      ],
      "metadata": {
        "id": "UI6nFecSAIt8"
      }
    },
    {
      "cell_type": "code",
      "source": [
        "from mlxtend.frequent_patterns import association_rules\n",
        "\n",
        "reglesgenerates = association_rules(aprioriResultat, metric=\"confidence\", min_threshold=0.7)\n",
        "print(reglesgenerates)\n",
        "\n",
        "'''\n",
        "regle  :\n",
        "en achatant l'item (tea) il est plus probable d'acheter l'item (bread and cake)\n",
        "nous avons 24570 règles \n",
        "'''"
      ],
      "metadata": {
        "colab": {
          "base_uri": "https://localhost:8080/",
          "height": 729
        },
        "id": "kjoqVlbN9wYS",
        "outputId": "b2f81088-193f-4268-f93c-fd5f18699f63"
      },
      "execution_count": null,
      "outputs": [
        {
          "output_type": "stream",
          "name": "stdout",
          "text": [
            "                                             antecedents  \\\n",
            "0                                          (department1)   \n",
            "1                                           (baby needs)   \n",
            "2                                         (baking needs)   \n",
            "3                                    (juice-sat-cord-ms)   \n",
            "4                                                  (tea)   \n",
            "...                                                  ...   \n",
            "24565  (vegetables, milk-cream, total_high, biscuits,...   \n",
            "24566  (fruit, milk-cream, bread and cake, total_high...   \n",
            "24567  (fruit, milk-cream, bread and cake, total_high...   \n",
            "24568  (fruit, milk-cream, total_high, biscuits, froz...   \n",
            "24569  (milk-cream, bread and cake, total_high, biscu...   \n",
            "\n",
            "                        consequents  antecedent support  consequent support  \\\n",
            "0                  (bread and cake)            0.226281            0.719689   \n",
            "1                  (bread and cake)            0.133780            0.719689   \n",
            "2                  (bread and cake)            0.604063            0.719689   \n",
            "3                  (bread and cake)            0.532310            0.719689   \n",
            "4                  (bread and cake)            0.193646            0.719689   \n",
            "...                             ...                 ...                 ...   \n",
            "24565       (bread and cake, fruit)            0.129674            0.502485   \n",
            "24566    (vegetables, frozen foods)            0.143289            0.406743   \n",
            "24567        (biscuits, vegetables)            0.146315            0.381241   \n",
            "24568  (bread and cake, vegetables)            0.130106            0.496650   \n",
            "24569           (vegetables, fruit)            0.147828            0.476983   \n",
            "\n",
            "        support  confidence      lift  leverage  conviction  \n",
            "0      0.171601    0.758357  1.053729  0.008750    1.160023  \n",
            "1      0.100929    0.754443  1.048290  0.004649    1.141531  \n",
            "2      0.473525    0.783900  1.089221  0.038788    1.297136  \n",
            "3      0.403933    0.758831  1.054387  0.020836    1.162301  \n",
            "4      0.153231    0.791295  1.099496  0.013866    1.343095  \n",
            "...         ...         ...       ...       ...         ...  \n",
            "24565  0.105036    0.810000  1.611987  0.039877    2.618498  \n",
            "24566  0.105036    0.733032  1.802198  0.046754    2.222200  \n",
            "24567  0.105036    0.717873  1.882992  0.049254    2.193195  \n",
            "24568  0.105036    0.807309  1.625509  0.040419    2.612212  \n",
            "24569  0.105036    0.710526  1.489626  0.034524    1.806786  \n",
            "\n",
            "[24570 rows x 9 columns]\n"
          ]
        },
        {
          "output_type": "execute_result",
          "data": {
            "text/plain": [
              "\"\\nregle  :\\nen achatant l'item (tea) il est plus probable d'acheter l'item (bread and cake)\\nnous avons 24570 règles \\n\""
            ],
            "application/vnd.google.colaboratory.intrinsic+json": {
              "type": "string"
            }
          },
          "metadata": {},
          "execution_count": 5
        }
      ]
    },
    {
      "cell_type": "markdown",
      "source": [
        "Apriori possède plusieurs critères pour évaluer la pertinence d'une règle, parmi lesquelles\n",
        "con\n",
        "dence et lift 2\n",
        ". Quelle est la meilleure règle pour l'ensemble \u0013 supermarket \u0014 pour chacune\n",
        "des métriques con\n",
        "dence et lift ? Commentez les scores et règles obtenus."
      ],
      "metadata": {
        "id": "DRmhvbCuD5kA"
      }
    },
    {
      "cell_type": "code",
      "source": [
        "#La règles avec la best Confiance\n",
        "max=0\n",
        "index=0\n",
        "for i , val in enumerate(reglesgenerates['confidence']):\n",
        "  if max < val :\n",
        "    max=val\n",
        "    index = i\n",
        "print(max)\n",
        "print(index) \n",
        "\n",
        "\n",
        "'''\n",
        "max confiance de  0.9372549019607843 Cest la Regle numéro  24522\n",
        "\n",
        "'''\n",
        "\n",
        "print(reglesgenerates.iloc[24522])"
      ],
      "metadata": {
        "colab": {
          "base_uri": "https://localhost:8080/"
        },
        "id": "z2BUw2UFD48T",
        "outputId": "735fe22f-30a6-473a-9f62-fa5a56dd53b9"
      },
      "execution_count": null,
      "outputs": [
        {
          "output_type": "stream",
          "name": "stdout",
          "text": [
            "0.9372549019607843\n",
            "24522\n",
            "antecedents           (vegetables, party snack foods, fruit, total_h...\n",
            "consequents                                            (bread and cake)\n",
            "antecedent support                                             0.110223\n",
            "consequent support                                             0.719689\n",
            "support                                                        0.103307\n",
            "confidence                                                     0.937255\n",
            "lift                                                           1.302306\n",
            "leverage                                                       0.023981\n",
            "conviction                                                      4.46746\n",
            "Name: 24522, dtype: object\n"
          ]
        }
      ]
    },
    {
      "cell_type": "code",
      "source": [
        "#La règles avec le Best Lift\n",
        "maxlift=0\n",
        "index=0\n",
        "for i , val in enumerate(reglesgenerates['lift']):\n",
        "  if maxlift < val :\n",
        "    maxlift=val\n",
        "    indexlift = i\n",
        "print(maxlift)\n",
        "print(indexlift)\n",
        "\n",
        "'''\n",
        "max lift de  2.3460508379953864 C'est la Regle numéro  24545\n",
        "\n",
        "'''\n",
        "print(reglesgenerates.iloc[24545])"
      ],
      "metadata": {
        "colab": {
          "base_uri": "https://localhost:8080/"
        },
        "id": "Q663GwBVJuXW",
        "outputId": "71e64114-3428-43d6-d458-fc456782e61b"
      },
      "execution_count": null,
      "outputs": [
        {
          "output_type": "stream",
          "name": "stdout",
          "text": [
            "2.3460508379953864\n",
            "24545\n",
            "antecedents           (vegetables, fruit, tissues-paper prd, biscuit...\n",
            "consequents                                (bread and cake, total_high)\n",
            "antecedent support                                             0.143289\n",
            "consequent support                                             0.305381\n",
            "support                                                        0.102658\n",
            "confidence                                                      0.71644\n",
            "lift                                                           2.346051\n",
            "leverage                                                         0.0589\n",
            "conviction                                                     2.449639\n",
            "Name: 24545, dtype: object\n"
          ]
        }
      ]
    },
    {
      "cell_type": "markdown",
      "source": [
        "Un dirigeant du supermarché souhaite améliorer ses ventes en réorganisant le positionnement\n",
        "des produits dans ses rayons. D'après votre analyse du panier de consommation fourni, quels\n",
        "produits sont souvent achetés conjointement avec des biscuits et des aliments pour animaux\n",
        "domestiques ?"
      ],
      "metadata": {
        "id": "xgATUOinNqaS"
      }
    },
    {
      "cell_type": "code",
      "source": [
        "from mlxtend.frequent_patterns import association_rules\n",
        "\n",
        "print(\"tous les produits ou pet foods et  biscuits sont des antécédants\")\n",
        "reglesgeneratesTWO = association_rules(aprioriResultat, metric=\"confidence\", min_threshold=0.7)\n",
        "rules2Antecedants = reglesgeneratesTWO.loc[map(lambda x:{\"biscuits\",\"pet foods\"}.issubset(x)  ,reglesgeneratesTWO['antecedents'])]\n",
        "print(rules2Antecedants)\n",
        "\n",
        "\n",
        "print(\"tous les produits  qui sont une conséquence dans les transaction ou les client qui achète  pet foods et  biscuits\")\n",
        "Consequents = frozenset.union(*rules2Antecedants['consequents'].tolist())\n",
        "print(Consequents)\n",
        "print(len(Consequents))\n"
      ],
      "metadata": {
        "colab": {
          "base_uri": "https://localhost:8080/"
        },
        "id": "nDOAl6t1HsiX",
        "outputId": "a1c4fe10-86a3-4f81-be79-6a25872f5064"
      },
      "execution_count": null,
      "outputs": [
        {
          "output_type": "stream",
          "name": "stdout",
          "text": [
            "tous les produits ou pet foods et  biscuits sont des antécédants\n",
            "                                             antecedents  \\\n",
            "263                                (biscuits, pet foods)   \n",
            "801                                (biscuits, pet foods)   \n",
            "1391                               (biscuits, pet foods)   \n",
            "1445                               (biscuits, pet foods)   \n",
            "1447                               (biscuits, pet foods)   \n",
            "...                                                  ...   \n",
            "23099  (vegetables, pet foods, bread and cake, total_...   \n",
            "23100  (fruit, pet foods, bread and cake, total_high,...   \n",
            "23102      (biscuits, pet foods, total_high, vegetables)   \n",
            "23104           (biscuits, pet foods, total_high, fruit)   \n",
            "23105  (biscuits, pet foods, bread and cake, total_high)   \n",
            "\n",
            "                        consequents  antecedent support  consequent support  \\\n",
            "263                (bread and cake)            0.256105            0.719689   \n",
            "801                  (baking needs)            0.256105            0.604063   \n",
            "1391                 (frozen foods)            0.256105            0.587206   \n",
            "1445                   (milk-cream)            0.256105            0.635185   \n",
            "1447                        (fruit)            0.256105            0.640156   \n",
            "...                             ...                 ...                 ...   \n",
            "23099                       (fruit)            0.115842            0.640156   \n",
            "23100                  (vegetables)            0.114329            0.639939   \n",
            "23102       (bread and cake, fruit)            0.127512            0.502485   \n",
            "23104  (bread and cake, vegetables)            0.124919            0.496650   \n",
            "23105           (vegetables, fruit)            0.140048            0.476983   \n",
            "\n",
            "        support  confidence      lift  leverage  conviction  \n",
            "263    0.215907    0.843038  1.171392  0.031590    1.785854  \n",
            "801    0.186082    0.726582  1.202825  0.031378    1.448103  \n",
            "1391   0.192998    0.753586  1.283344  0.042611    1.675210  \n",
            "1445   0.181759    0.709705  1.117320  0.019085    1.256704  \n",
            "1447   0.188891    0.737553  1.152146  0.024944    1.371111  \n",
            "...         ...         ...       ...       ...         ...  \n",
            "23099  0.100929    0.871269  1.361026  0.026773    2.795313  \n",
            "23100  0.100929    0.882798  1.379502  0.027766    3.072129  \n",
            "23102  0.100929    0.791525  1.575221  0.036856    2.386452  \n",
            "23104  0.100929    0.807958  1.626816  0.038888    2.621047  \n",
            "23105  0.100929    0.720679  1.510912  0.034129    1.872459  \n",
            "\n",
            "[384 rows x 9 columns]\n",
            "tous les produits  qui sont une conséquence dans les transaction ou les client qui achète  pet foods et  biscuits\n",
            "frozenset({'vegetables', 'margarine', 'party snack foods', 'fruit', 'milk-cream', 'bread and cake', 'total_high', 'baking needs', 'sauces-gravy-pkle', 'tissues-paper prd', 'juice-sat-cord-ms', 'frozen foods'})\n",
            "12\n"
          ]
        }
      ]
    }
  ]
}